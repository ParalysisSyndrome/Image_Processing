{
 "cells": [
  {
   "cell_type": "code",
   "execution_count": 1,
   "metadata": {
    "id": "rm2BGzzDvzfk"
   },
   "outputs": [],
   "source": [
    "import cv2 as cv\n",
    "#import common\n",
    "import numpy as np\n",
    "from skimage.feature import hog\n",
    "\n",
    "#the following are to do with this interactive notebook code\n",
    "%matplotlib inline \n",
    "from matplotlib import pyplot as plt\n",
    "import pylab\n",
    "pylab.rcParams['figure.figsize'] = (10.0, 8.0) # this controls figure size in the notebook"
   ]
  },
  {
   "cell_type": "code",
   "execution_count": 4,
   "metadata": {},
   "outputs": [],
   "source": [
    "def hog_feature_descriptor(images): \n",
    "    hog_img = []\n",
    "    vis_img = []\n",
    "    for sample in range(images.shape[0]):\n",
    "        fd, img = hog(images[sample], orientations=9,\n",
    "                      pixels_per_cell=(8,8), cells_per_block=(2,2), \n",
    "                      visualize = True, \n",
    "                      multichannel = False, \n",
    "                      feature_vector = True)\n",
    "\n",
    "        hog_img.append(fd)\n",
    "        vis_img.append(img)\n",
    "\n",
    "        hog_array = np.array(hog_img)\n",
    "        vis_array = np.array(vis_img)\n",
    "        \n",
    "    return hog_array, vis_array"
   ]
  },
  {
   "cell_type": "code",
   "execution_count": 6,
   "metadata": {
    "colab": {
     "base_uri": "https://localhost:8080/",
     "height": 252
    },
    "id": "AwaUoFLdHAW7",
    "outputId": "e725b817-84b3-47cc-950d-d87871bb4b6d"
   },
   "outputs": [
    {
     "name": "stderr",
     "output_type": "stream",
     "text": [
      "C:\\Users\\Fernanda Januar\\anaconda3\\envs\\cv\\lib\\site-packages\\ipykernel_launcher.py:19: FutureWarning: `multichannel` is a deprecated argument name for `hog`. It will be removed in version 1.0. Please use `channel_axis` instead.\n"
     ]
    }
   ],
   "source": [
    "# Feature Descriptor\n",
    "cap = cv.VideoCapture(0)\n",
    "\n",
    "while True:\n",
    "    ret, frame = cap.read()\n",
    "    gray = cv.cvtColor(frame, cv.COLOR_BGR2GRAY)\n",
    "    \n",
    "    # Canny\n",
    "    sigma = .6\n",
    "    median = np.median(gray)\n",
    "    lower = int(max(0, (1.0 - sigma) * median))\n",
    "    upper = int(min(255, (1.0 + sigma) * median))\n",
    "    auto_canny = cv.Canny(gray, lower, upper)\n",
    "    \n",
    "    fd, img = hog(auto_canny, orientations=9,\n",
    "                  pixels_per_cell=(8,8), cells_per_block=(2,2), \n",
    "                  visualize = True, \n",
    "                  multichannel = False, \n",
    "                  feature_vector = True)\n",
    "    \n",
    "    cv.imshow('sample', img)\n",
    "    \n",
    "    if cv.waitKey(1) & 0xFF==ord('q'):\n",
    "        break\n",
    "\n",
    "cap.release()\n",
    "cv.destroyAllWindows()"
   ]
  },
  {
   "cell_type": "code",
   "execution_count": null,
   "metadata": {},
   "outputs": [],
   "source": []
  }
 ],
 "metadata": {
  "colab": {
   "provenance": []
  },
  "kernelspec": {
   "display_name": "Python 3 (ipykernel)",
   "language": "python",
   "name": "python3"
  },
  "language_info": {
   "codemirror_mode": {
    "name": "ipython",
    "version": 3
   },
   "file_extension": ".py",
   "mimetype": "text/x-python",
   "name": "python",
   "nbconvert_exporter": "python",
   "pygments_lexer": "ipython3",
   "version": "3.7.11"
  }
 },
 "nbformat": 4,
 "nbformat_minor": 1
}
