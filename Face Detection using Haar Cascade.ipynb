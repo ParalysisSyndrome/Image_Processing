{
 "cells": [
  {
   "cell_type": "code",
   "execution_count": 1,
   "metadata": {
    "id": "rm2BGzzDvzfk"
   },
   "outputs": [],
   "source": [
    "import cv2 as cv\n",
    "#import common\n",
    "import numpy as np\n",
    "\n",
    "#the following are to do with this interactive notebook code\n",
    "%matplotlib inline \n",
    "from matplotlib import pyplot as plt\n",
    "import pylab\n",
    "pylab.rcParams['figure.figsize'] = (10.0, 8.0) # this controls figure size in the notebook"
   ]
  },
  {
   "cell_type": "code",
   "execution_count": 20,
   "metadata": {
    "colab": {
     "base_uri": "https://localhost:8080/",
     "height": 252
    },
    "id": "AwaUoFLdHAW7",
    "outputId": "e725b817-84b3-47cc-950d-d87871bb4b6d"
   },
   "outputs": [],
   "source": [
    "cap = cv.VideoCapture(0)\n",
    "face_cascade = cv.CascadeClassifier(cv.data.haarcascades + \"haarcascade_frontalface_default.xml\")\n",
    "eyes_cascade = cv.CascadeClassifier(cv.data.haarcascades + \"haarcascade_eye.xml\")\n",
    "\n",
    "while True:\n",
    "    ret, frame = cap.read()\n",
    "    gray = cv.cvtColor(frame, cv.COLOR_BGR2GRAY)\n",
    "    faces = face_cascade.detectMultiScale(gray, 1.05, 6)\n",
    "    eyes = eyes_cascade.detectMultiScale(gray, 1.1, 25)\n",
    "    \n",
    "    for (x,y,w,h) in faces:\n",
    "        cv.rectangle(frame, (x,y), (x+w, y+h), (0,0,255), 2)\n",
    "        roi_gray = gray[y:y+h, x:x+w]\n",
    "        roi_color = frame[y:y+h, x:x+w]\n",
    "        \n",
    "        for (x_s,y_s,w_s,h_s) in eyes:\n",
    "            if ((x <= x_s) and (y <= y_s) and (x+w >= x_s+w_s) and (y+h >= y_s+h_s)):\n",
    "                cv.rectangle(frame, (x_s,y_s),(x_s+w_s,y_s+h_s),(0,255,0),2)\n",
    "                roi_gray = gray[y_s:y_s+h, x_s:x_s+w_s]\n",
    "                roi_color = frame[y_s:y_s+h_s, x_s:x_s+w_s]\n",
    "        \n",
    "    cv.imshow('Face Detection using Haar Cascade', frame)\n",
    "    \n",
    "    if cv.waitKey(1) & 0xFF==ord('q'):\n",
    "        break\n",
    "        \n",
    "cap.release()\n",
    "cv.destroyAllWindows()"
   ]
  }
 ],
 "metadata": {
  "colab": {
   "provenance": []
  },
  "kernelspec": {
   "display_name": "Python 3 (ipykernel)",
   "language": "python",
   "name": "python3"
  },
  "language_info": {
   "codemirror_mode": {
    "name": "ipython",
    "version": 3
   },
   "file_extension": ".py",
   "mimetype": "text/x-python",
   "name": "python",
   "nbconvert_exporter": "python",
   "pygments_lexer": "ipython3",
   "version": "3.7.11"
  }
 },
 "nbformat": 4,
 "nbformat_minor": 1
}
