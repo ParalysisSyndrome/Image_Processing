{
 "cells": [
  {
   "cell_type": "code",
   "execution_count": 1,
   "id": "f6b68387",
   "metadata": {},
   "outputs": [],
   "source": [
    "import cv2 as cv\n",
    "import numpy as np\n",
    "import time\n",
    "import tensorflow as tf\n",
    "\n",
    "import matplotlib.pyplot as plt\n",
    "%matplotlib inline"
   ]
  },
  {
   "cell_type": "markdown",
   "id": "8f85bbcf",
   "metadata": {},
   "source": [
    "# Model"
   ]
  },
  {
   "cell_type": "code",
   "execution_count": 2,
   "id": "8eb81f76",
   "metadata": {},
   "outputs": [],
   "source": [
    "# Load Pretrained Model\n",
    "path_model = r'C:\\Users\\Fernanda Januar\\Documents\\Adobe\\Premiere Pro\\14.0\\Fire_Classification_mobilenetv2.h5'\n",
    "model = tf.keras.models.load_model(path_model)"
   ]
  },
  {
   "cell_type": "code",
   "execution_count": 7,
   "id": "4572e9d9",
   "metadata": {},
   "outputs": [
    {
     "name": "stdout",
     "output_type": "stream",
     "text": [
      "\n",
      "Total number of frames 1\n",
      "Total amount of time 0.10540 seconds\n",
      "\n"
     ]
    }
   ],
   "source": [
    "'''path = r'C:\\Users\\Fernanda Januar\\Downloads\\fire4.mp4'\n",
    "vid = cv.VideoCapture(path)\n",
    "\n",
    "f = 0\n",
    "t = 0\n",
    "while True:\n",
    "    ret, frame = vid.read()\n",
    "    if not ret:\n",
    "        break\n",
    "    \n",
    "    # Resize the Frame to 224,224,3 and convert to 1,224,224,3-----------\n",
    "    img_resize = tf.keras.preprocessing.image.smart_resize(\n",
    "        frame,\n",
    "        (224, 224)\n",
    "    )\n",
    "    new_frame = np.expand_dims(img_resize, 0)\n",
    "    \n",
    "    # Predict the frames/images\n",
    "    start = time.time()\n",
    "    label_pred = np.argmax(model.predict(new_frame))\n",
    "    \n",
    "    end = time.time()\n",
    "    f+=1\n",
    "    t+=end-start\n",
    "    #--------------------------------------------------------------------\n",
    "    \n",
    "    #Labels---------------------------------------------------------------------------------\n",
    "    if label_pred==1:\n",
    "        color = [0,0,255]\n",
    "        lol = \"FIRE\"\n",
    "    else:\n",
    "        color = [255,0,0]\n",
    "        lol = \"Not_FIRE\"\n",
    "    \n",
    "    text1 = \"Predict :: {}\".format(lol)\n",
    "    text2 = \"Frame number {0} took {1:.5f} seconds\".format(f, end - start)\n",
    "    text3 = \"FPS: {}\".format(round((f / t), 1))\n",
    "    cv.putText(frame, text1, (30, 150), cv.FONT_HERSHEY_COMPLEX, 1.0, color, 2)\n",
    "    cv.putText(frame, text2, (30, 190), cv.FONT_HERSHEY_COMPLEX, 1.0, (255,0,0), 2)\n",
    "    cv.putText(frame, text3, (30, 230), cv.FONT_HERSHEY_COMPLEX, 1.0, (255,0,0), 2)\n",
    "    #---------------------------------------------------------------------------------------\n",
    "    \n",
    "    #sizesize = cv.resize(frame, (224,224))\n",
    "    cv.imshow(\"Frame\", frame)\n",
    "    if cv.waitKey(1) & 0xFF==ord(\"q\"):\n",
    "        break\n",
    "    \n",
    "    #plt.imshow(cv.cvtColor(frame, cv.COLOR_BGR2RGB), cmap='gray')\n",
    "    #print(frame.shape)\n",
    "    break\n",
    "        \n",
    "vid.release()\n",
    "cv.destroyAllWindows()\n",
    "\n",
    "# Printing final results\n",
    "print('\\nTotal number of frames', f)\n",
    "print('Total amount of time {:.5f} seconds'.format(t))\n",
    "print()'''"
   ]
  },
  {
   "cell_type": "code",
   "execution_count": null,
   "id": "5b0c2baa",
   "metadata": {},
   "outputs": [],
   "source": []
  },
  {
   "cell_type": "markdown",
   "id": "ffb828c3",
   "metadata": {},
   "source": [
    "# Segmentation"
   ]
  },
  {
   "cell_type": "code",
   "execution_count": 3,
   "id": "547836ae",
   "metadata": {},
   "outputs": [],
   "source": [
    "def nothing(x):\n",
    "    pass"
   ]
  },
  {
   "cell_type": "code",
   "execution_count": 4,
   "id": "0ca918db",
   "metadata": {},
   "outputs": [],
   "source": [
    "# Fungsi trackbar untk proses masking\n",
    "def masking(image):\n",
    "    hsv = cv.cvtColor(image, cv.COLOR_BGR2HSV)\n",
    "    #gray = cv.cvtColor(image, cv.COLOR_BGR2GRAY)\n",
    "    \n",
    "    min_r = cv.getTrackbarPos(\"min_red\", \"TrackBars\")\n",
    "    min_g = cv.getTrackbarPos(\"min_green\", \"TrackBars\")\n",
    "    min_b = cv.getTrackbarPos(\"min_blue\", \"TrackBars\")\n",
    "    \n",
    "    lower = np.array([min_r, min_g, min_b])\n",
    "    upper = np.array([255,255,255])\n",
    "    mask = cv.inRange(hsv, lower, upper)\n",
    "    \n",
    "    #kernel = np.ones((5,5),np.uint8)\n",
    "    #kernel = cv.getStructuringElement(cv.MORPH_ELLIPSE, (11,11))\n",
    "    #mask = cv.morphologyEx(mask, cv.MORPH_OPEN, kernel)\n",
    "    \n",
    "    #image_blurred = cv.GaussianBlur(gray, (0, 0), 3)\n",
    "    #_,thresh = cv.threshold(image_blurred, 0, 255, cv.THRESH_BINARY+cv.THRESH_OTSU)\n",
    "    \n",
    "    return mask, min_r, min_g, min_b"
   ]
  },
  {
   "cell_type": "code",
   "execution_count": 7,
   "id": "b13675d3",
   "metadata": {},
   "outputs": [
    {
     "name": "stdout",
     "output_type": "stream",
     "text": [
      "\n",
      "Total number of frames 1097\n",
      "Total amount of time 90.89765 seconds\n",
      "min red, min green, min blue: 0, 68, 0\n"
     ]
    }
   ],
   "source": [
    "path = r'C:\\Users\\Fernanda Januar\\Downloads\\fire4.mp4'\n",
    "vid = cv.VideoCapture(path)\n",
    "cv.namedWindow(\"TrackBars\")\n",
    "\n",
    "# Create TrackBar\n",
    "## Minimum range\n",
    "cv.createTrackbar(\"min_red\", \"TrackBars\", 0, 255, nothing)\n",
    "cv.createTrackbar(\"min_green\", \"TrackBars\", 0, 255, nothing)\n",
    "cv.createTrackbar(\"min_blue\", \"TrackBars\", 0, 255, nothing)\n",
    "\n",
    "f = 0\n",
    "t = 0\n",
    "while True:\n",
    "    ret, frame = vid.read()\n",
    "    if not ret:\n",
    "        break\n",
    "    \n",
    "    # Masking + Segmentation\n",
    "    mask, min_r, min_g, min_b = masking(frame)\n",
    "    bit = cv.bitwise_and(frame, frame, mask=mask)\n",
    "    \n",
    "    hsv_rgb = cv.cvtColor(bit, cv.COLOR_HSV2RGB)\n",
    "    gray = cv.cvtColor(hsv_rgb, cv.COLOR_RGB2GRAY)\n",
    "    image_blurred = cv.GaussianBlur(gray, (0, 0), 3)\n",
    "    _, thresh = cv.threshold(image_blurred, 0, 255, cv.THRESH_BINARY+cv.THRESH_OTSU)\n",
    "    bit = cv.bitwise_and(frame, frame, mask=thresh)\n",
    "    \n",
    "    \n",
    "    # Resize the Frame to 224,224,3 and convert to 1,224,224,3-----------\n",
    "    img_resize = tf.keras.preprocessing.image.smart_resize(\n",
    "        bit,\n",
    "        (224, 224)\n",
    "    )\n",
    "    new_frame = np.expand_dims(img_resize, 0)\n",
    "    \n",
    "    # Predict the frames/images\n",
    "    start = time.time()\n",
    "    label_pred = np.argmax(model.predict(new_frame))\n",
    "    \n",
    "    end = time.time()\n",
    "    f+=1\n",
    "    t+=end-start\n",
    "    #--------------------------------------------------------------------\n",
    "    \n",
    "    #Labels---------------------------------------------------------------------------------\n",
    "    if label_pred==1:\n",
    "        color = [0,0,255]\n",
    "        lol = \"FIRE\"\n",
    "    else:\n",
    "        color = [255,0,0]\n",
    "        lol = \"Not_FIRE\"\n",
    "    \n",
    "    text1 = \"Predict :: {}\".format(lol)\n",
    "    text2 = \"Frame number {0} took {1:.5f} seconds\".format(f, end - start)\n",
    "    text3 = \"FPS: {}\".format(round((f / t), 1))\n",
    "    cv.putText(bit, text1, (30, 150), cv.FONT_HERSHEY_COMPLEX, 0.8, color, 2)\n",
    "    cv.putText(bit, text2, (30, 190), cv.FONT_HERSHEY_COMPLEX, 0.8, (255,0,0), 2)\n",
    "    cv.putText(bit, text3, (30, 230), cv.FONT_HERSHEY_COMPLEX, 0.8, (255,0,0), 2)\n",
    "    #---------------------------------------------------------------------------------------'''\n",
    "    \n",
    "    cv.imshow(\"Frame_RGB\", frame)\n",
    "    cv.imshow(\"Frame_Mask\", bit)\n",
    "    if cv.waitKey(1) & 0xFF==ord(\"q\"):\n",
    "        break\n",
    "\n",
    "    #break\n",
    "vid.release()\n",
    "cv.destroyAllWindows()\n",
    "\n",
    "\n",
    "# Printing final results\n",
    "print('\\nTotal number of frames', f)\n",
    "print('Total amount of time {:.5f} seconds'.format(t))\n",
    "\n",
    "print(\"min red, min green, min blue: {0}, {1}, {2}\".format(min_r, min_g, min_b))"
   ]
  },
  {
   "cell_type": "markdown",
   "id": "c383a6dc",
   "metadata": {},
   "source": [
    "# Dont use this shit!!"
   ]
  },
  {
   "cell_type": "code",
   "execution_count": 46,
   "id": "3e2d537b",
   "metadata": {},
   "outputs": [],
   "source": [
    "cv.namedWindow(\"TrackBars\")\n",
    "cv.createTrackbar(\"min_red\", \"TrackBars\", 0, 255, nothing)\n",
    "cv.createTrackbar(\"min_green\", \"TrackBars\", 0, 255, nothing)\n",
    "cv.createTrackbar(\"min_blue\", \"TrackBars\", 0, 255, nothing)\n",
    "\n",
    "while True:\n",
    "    mask, min_r, min_g, min_b = masking(frame)\n",
    "    bitwise = cv.bitwise_and(frame, frame , mask=mask)\n",
    "    \n",
    "    #cv.imshow(\"Sample\", frame)\n",
    "    cv.imshow(\"Sample\", mask)\n",
    "    \n",
    "    if cv.waitKey(1) & 0xFF==ord(\"q\"):\n",
    "        break\n",
    "\n",
    "cv.destroyAllWindows()"
   ]
  },
  {
   "cell_type": "code",
   "execution_count": null,
   "id": "28ee7ad0",
   "metadata": {},
   "outputs": [],
   "source": []
  }
 ],
 "metadata": {
  "kernelspec": {
   "display_name": "Python 3 (ipykernel)",
   "language": "python",
   "name": "python3"
  },
  "language_info": {
   "codemirror_mode": {
    "name": "ipython",
    "version": 3
   },
   "file_extension": ".py",
   "mimetype": "text/x-python",
   "name": "python",
   "nbconvert_exporter": "python",
   "pygments_lexer": "ipython3",
   "version": "3.7.16"
  }
 },
 "nbformat": 4,
 "nbformat_minor": 5
}
