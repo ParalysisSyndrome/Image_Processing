{
 "cells": [
  {
   "cell_type": "code",
   "execution_count": 1,
   "metadata": {
    "id": "rm2BGzzDvzfk"
   },
   "outputs": [],
   "source": [
    "import cv2 as cv\n",
    "#import common\n",
    "import numpy as np\n",
    "\n",
    "#the following are to do with this interactive notebook code\n",
    "%matplotlib inline \n",
    "from matplotlib import pyplot as plt\n",
    "import pylab\n",
    "pylab.rcParams['figure.figsize'] = (10.0, 8.0) # this controls figure size in the notebook"
   ]
  },
  {
   "cell_type": "code",
   "execution_count": 23,
   "metadata": {
    "colab": {
     "base_uri": "https://localhost:8080/",
     "height": 252
    },
    "id": "AwaUoFLdHAW7",
    "outputId": "e725b817-84b3-47cc-950d-d87871bb4b6d"
   },
   "outputs": [],
   "source": [
    "# Real-Time Segmentation using Otsu's Method\n",
    "cap = cv.VideoCapture(0)\n",
    "\n",
    "while True:\n",
    "    ret, frame = cap.read()\n",
    "    gray = cv.cvtColor(frame, cv.COLOR_BGR2GRAY)\n",
    "    _,thresh = cv.threshold(gray,0,255,cv.THRESH_BINARY_INV+cv.THRESH_OTSU)\n",
    "    \n",
    "    # Masking\n",
    "    valid_range = np.logical_and(thresh, gray)\n",
    "    new_img = frame.copy()\n",
    "    new_img[np.logical_not(valid_range)] = 0\n",
    "    \n",
    "    # Show\n",
    "    cv.imshow('sample1',new_img)\n",
    "    #cv.imshow('sample2',th3)\n",
    "    \n",
    "    if cv.waitKey(1) & 0xFF==ord('q'):\n",
    "        break\n",
    "\n",
    "cap.release()\n",
    "cv.destroyAllWindows()"
   ]
  },
  {
   "cell_type": "code",
   "execution_count": null,
   "metadata": {},
   "outputs": [],
   "source": []
  }
 ],
 "metadata": {
  "colab": {
   "provenance": []
  },
  "kernelspec": {
   "display_name": "Python 3 (ipykernel)",
   "language": "python",
   "name": "python3"
  },
  "language_info": {
   "codemirror_mode": {
    "name": "ipython",
    "version": 3
   },
   "file_extension": ".py",
   "mimetype": "text/x-python",
   "name": "python",
   "nbconvert_exporter": "python",
   "pygments_lexer": "ipython3",
   "version": "3.7.11"
  }
 },
 "nbformat": 4,
 "nbformat_minor": 1
}
