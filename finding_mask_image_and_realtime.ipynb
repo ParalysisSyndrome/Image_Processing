{
 "cells": [
  {
   "cell_type": "code",
   "execution_count": 1,
   "metadata": {
    "id": "rm2BGzzDvzfk"
   },
   "outputs": [],
   "source": [
    "import cv2 as cv\n",
    "#import common\n",
    "import numpy as np\n",
    "\n",
    "#the following are to do with this interactive notebook code\n",
    "%matplotlib inline \n",
    "from matplotlib import pyplot as plt\n",
    "import pylab\n",
    "pylab.rcParams['figure.figsize'] = (10.0, 8.0) # this controls figure size in the notebook"
   ]
  },
  {
   "cell_type": "code",
   "execution_count": 2,
   "metadata": {},
   "outputs": [],
   "source": [
    "def nothing(x):\n",
    "    pass"
   ]
  },
  {
   "cell_type": "code",
   "execution_count": 4,
   "metadata": {},
   "outputs": [],
   "source": [
    "# Fungsi trackbar untk proses masking\n",
    "def masking(image):\n",
    "    hsv = cv.cvtColor(image, cv.COLOR_BGR2HSV)\n",
    "    \n",
    "    min_r = cv.getTrackbarPos(\"min_red\", \"TrackBars\")\n",
    "    min_g = cv.getTrackbarPos(\"min_green\", \"TrackBars\")\n",
    "    min_b = cv.getTrackbarPos(\"min_blue\", \"TrackBars\")\n",
    "    \n",
    "    lower = np.array([min_r, min_g, min_b])\n",
    "    upper = np.array([255,255,255])\n",
    "    mask = cv.inRange(hsv, lower, upper)\n",
    "    \n",
    "    return mask, min_r, min_g, min_b"
   ]
  },
  {
   "cell_type": "code",
   "execution_count": 4,
   "metadata": {},
   "outputs": [
    {
     "name": "stdout",
     "output_type": "stream",
     "text": [
      "min red, min green, min blue: 10, 141, 114\n"
     ]
    }
   ],
   "source": [
    "# real time VideoCapture using opencv\n",
    "cap = cv.VideoCapture(0)\n",
    "cv.namedWindow(\"TrackBars\")\n",
    "\n",
    "# Create TrackBar\n",
    "## Minimum range\n",
    "cv.createTrackbar(\"min_red\", \"TrackBars\", 0, 255, nothing)\n",
    "cv.createTrackbar(\"min_green\", \"TrackBars\", 0, 255, nothing)\n",
    "cv.createTrackbar(\"min_blue\", \"TrackBars\", 0, 255, nothing)\n",
    "\n",
    "## Maximum range\n",
    "\n",
    "while True:\n",
    "    _, frame = cap.read()\n",
    "    mask, min_r, min_g, min_b = masking(frame)\n",
    "    \n",
    "    #cv.imshow(\"Sample\", frame)\n",
    "    cv.imshow(\"Sample\", mask)\n",
    "    if cv.waitKey(1) & 0xFF==ord(\"q\"):\n",
    "        break\n",
    "        \n",
    "cap.release()\n",
    "cv.destroyAllWindows()\n",
    "\n",
    "print(\"min red, min green, min blue: {0}, {1}, {2}\".format(min_r, min_g, min_b))"
   ]
  },
  {
   "cell_type": "code",
   "execution_count": 6,
   "metadata": {
    "scrolled": true
   },
   "outputs": [],
   "source": [
    "# Image masking\n",
    "\n",
    "#from google.colab import files\n",
    "#uploaded = files.uploaded()\n",
    "\n",
    "cv.namedWindow(\"TrackBars\")\n",
    "# Create TrackBar\n",
    "## Minimum range\n",
    "cv.createTrackbar(\"min_red\", \"TrackBars\", 0, 255, nothing)\n",
    "cv.createTrackbar(\"min_green\", \"TrackBars\", 0, 255, nothing)\n",
    "cv.createTrackbar(\"min_blue\", \"TrackBars\", 0, 255, nothing)\n",
    "\n",
    "\n",
    "path = r'C:\\Users\\Fernanda Januar\\white_cat_and_dog.jpg'\n",
    "image = cv.imread(path)\n",
    "\n",
    "while True:\n",
    "    mask, min_r, min_g, min_b = masking(image)  \n",
    "    #cv.imshow(\"Sample\", frame)\n",
    "    cv.imshow(\"Sample\", mask)\n",
    "\n",
    "    if cv.waitKey(1) & 0xFF==ord(\"q\"):\n",
    "        break\n",
    "\n",
    "cv.destroyAllWindows()"
   ]
  }
 ],
 "metadata": {
  "colab": {
   "provenance": []
  },
  "kernelspec": {
   "display_name": "Python 3 (ipykernel)",
   "language": "python",
   "name": "python3"
  },
  "language_info": {
   "codemirror_mode": {
    "name": "ipython",
    "version": 3
   },
   "file_extension": ".py",
   "mimetype": "text/x-python",
   "name": "python",
   "nbconvert_exporter": "python",
   "pygments_lexer": "ipython3",
   "version": "3.7.11"
  }
 },
 "nbformat": 4,
 "nbformat_minor": 1
}
